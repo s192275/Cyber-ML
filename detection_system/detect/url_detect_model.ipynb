{
 "cells": [
  {
   "cell_type": "code",
   "execution_count": 10,
   "metadata": {},
   "outputs": [],
   "source": [
    "import matplotlib.pyplot as plt\n",
    "import pandas as pd\n",
    "import seaborn as sns\n",
    "from sklearn.feature_extraction.text import TfidfVectorizer\n",
    "from sklearn.model_selection import train_test_split\n",
    "from xgboost import XGBClassifier, XGBRFClassifier\n",
    "from lightgbm import LGBMClassifier\n",
    "from sklearn.svm import SVC\n",
    "from sklearn.ensemble import RandomForestClassifier\n",
    "from sklearn.metrics import confusion_matrix, f1_score, roc_auc_score\n",
    "import pickle\n",
    "import re"
   ]
  },
  {
   "cell_type": "code",
   "execution_count": 11,
   "metadata": {},
   "outputs": [],
   "source": [
    "df = pd.read_csv(r\"C:/Users/s7522/Desktop/detection_system/dataset/data_url.csv\")"
   ]
  },
  {
   "cell_type": "code",
   "execution_count": 12,
   "metadata": {},
   "outputs": [],
   "source": [
    "df['label'] = df['label'].map({'bad': 0, 'good': 1})\n"
   ]
  },
  {
   "cell_type": "code",
   "execution_count": 13,
   "metadata": {},
   "outputs": [
    {
     "data": {
      "text/html": [
       "<div>\n",
       "<style scoped>\n",
       "    .dataframe tbody tr th:only-of-type {\n",
       "        vertical-align: middle;\n",
       "    }\n",
       "\n",
       "    .dataframe tbody tr th {\n",
       "        vertical-align: top;\n",
       "    }\n",
       "\n",
       "    .dataframe thead th {\n",
       "        text-align: right;\n",
       "    }\n",
       "</style>\n",
       "<table border=\"1\" class=\"dataframe\">\n",
       "  <thead>\n",
       "    <tr style=\"text-align: right;\">\n",
       "      <th></th>\n",
       "      <th>url</th>\n",
       "      <th>label</th>\n",
       "    </tr>\n",
       "  </thead>\n",
       "  <tbody>\n",
       "    <tr>\n",
       "      <th>0</th>\n",
       "      <td>diaryofagameaddict.com</td>\n",
       "      <td>0</td>\n",
       "    </tr>\n",
       "    <tr>\n",
       "      <th>1</th>\n",
       "      <td>espdesign.com.au</td>\n",
       "      <td>0</td>\n",
       "    </tr>\n",
       "    <tr>\n",
       "      <th>2</th>\n",
       "      <td>iamagameaddict.com</td>\n",
       "      <td>0</td>\n",
       "    </tr>\n",
       "    <tr>\n",
       "      <th>3</th>\n",
       "      <td>kalantzis.net</td>\n",
       "      <td>0</td>\n",
       "    </tr>\n",
       "    <tr>\n",
       "      <th>4</th>\n",
       "      <td>slightlyoffcenter.net</td>\n",
       "      <td>0</td>\n",
       "    </tr>\n",
       "    <tr>\n",
       "      <th>...</th>\n",
       "      <td>...</td>\n",
       "      <td>...</td>\n",
       "    </tr>\n",
       "    <tr>\n",
       "      <th>420459</th>\n",
       "      <td>23.227.196.215/</td>\n",
       "      <td>0</td>\n",
       "    </tr>\n",
       "    <tr>\n",
       "      <th>420460</th>\n",
       "      <td>apple-checker.org/</td>\n",
       "      <td>0</td>\n",
       "    </tr>\n",
       "    <tr>\n",
       "      <th>420461</th>\n",
       "      <td>apple-iclods.org/</td>\n",
       "      <td>0</td>\n",
       "    </tr>\n",
       "    <tr>\n",
       "      <th>420462</th>\n",
       "      <td>apple-uptoday.org/</td>\n",
       "      <td>0</td>\n",
       "    </tr>\n",
       "    <tr>\n",
       "      <th>420463</th>\n",
       "      <td>apple-search.info</td>\n",
       "      <td>0</td>\n",
       "    </tr>\n",
       "  </tbody>\n",
       "</table>\n",
       "<p>420464 rows × 2 columns</p>\n",
       "</div>"
      ],
      "text/plain": [
       "                           url  label\n",
       "0       diaryofagameaddict.com      0\n",
       "1             espdesign.com.au      0\n",
       "2           iamagameaddict.com      0\n",
       "3                kalantzis.net      0\n",
       "4        slightlyoffcenter.net      0\n",
       "...                        ...    ...\n",
       "420459         23.227.196.215/      0\n",
       "420460      apple-checker.org/      0\n",
       "420461       apple-iclods.org/      0\n",
       "420462      apple-uptoday.org/      0\n",
       "420463       apple-search.info      0\n",
       "\n",
       "[420464 rows x 2 columns]"
      ]
     },
     "execution_count": 13,
     "metadata": {},
     "output_type": "execute_result"
    }
   ],
   "source": [
    "df"
   ]
  },
  {
   "cell_type": "code",
   "execution_count": 14,
   "metadata": {},
   "outputs": [],
   "source": [
    "def clean_text(text):\n",
    "    text = text.lower()\n",
    "    token = re.split(r'[\\/\\-._:]', text)\n",
    "    token.append(text)\n",
    "    if \"www\" in token:\n",
    "        token.remove(\"www\")\n",
    "    if \"com\" in token:\n",
    "        token.remove(\"com\")\n",
    "    if \"https\" in token:\n",
    "        token.remove(\"https\")\n",
    "    if  \"http\" in token:\n",
    "        token.remove(\"http\")\n",
    "    token = token[:-1]\n",
    "    return token\n"
   ]
  },
  {
   "cell_type": "code",
   "execution_count": 15,
   "metadata": {},
   "outputs": [
    {
     "name": "stderr",
     "output_type": "stream",
     "text": [
      "c:\\Users\\s7522\\anaconda3\\Lib\\site-packages\\sklearn\\feature_extraction\\text.py:525: UserWarning: The parameter 'token_pattern' will not be used since 'tokenizer' is not None'\n",
      "  warnings.warn(\n"
     ]
    }
   ],
   "source": [
    "#ML \n",
    "urls = df[\"url\"]\n",
    "y = df[\"label\"]\n",
    "vectorizer = TfidfVectorizer(tokenizer=clean_text)\n",
    "x = vectorizer.fit_transform(urls)\n",
    "x_train, x_test, y_train, y_test = train_test_split(x, y, test_size=0.2, random_state=42)"
   ]
  },
  {
   "cell_type": "code",
   "execution_count": 16,
   "metadata": {},
   "outputs": [
    {
     "data": {
      "text/plain": [
       "226702    1\n",
       "370689    1\n",
       "304005    1\n",
       "235092    1\n",
       "293973    1\n",
       "         ..\n",
       "259178    1\n",
       "365838    1\n",
       "131932    1\n",
       "146867    1\n",
       "121958    1\n",
       "Name: label, Length: 336371, dtype: int64"
      ]
     },
     "execution_count": 16,
     "metadata": {},
     "output_type": "execute_result"
    }
   ],
   "source": [
    "y_train"
   ]
  },
  {
   "cell_type": "code",
   "execution_count": 61,
   "metadata": {},
   "outputs": [
    {
     "name": "stdout",
     "output_type": "stream",
     "text": [
      "XGBClassifier\n",
      "F1 Score\n",
      "0.954627240393333\n",
      "Roc Auc Score\n",
      "0.8005977223433711\n",
      "Confusion Matrix\n",
      "[[ 9145  5819]\n",
      " [  687 68442]]\n",
      "XGBRFClassifier\n",
      "F1 Score\n",
      "0.9256181514521976\n",
      "Roc Auc Score\n",
      "0.6590548558131322\n",
      "Confusion Matrix\n",
      "[[ 4968  9996]\n",
      " [  960 68169]]\n",
      "LGBMClassifier\n",
      "[LightGBM] [Info] Number of positive: 275692, number of negative: 60679\n",
      "[LightGBM] [Info] Auto-choosing row-wise multi-threading, the overhead of testing was 2.356521 seconds.\n",
      "You can set `force_row_wise=true` to remove the overhead.\n",
      "And if memory is not enough, you can set `force_col_wise=true`.\n",
      "[LightGBM] [Info] Total Bins 207661\n",
      "[LightGBM] [Info] Number of data points in the train set: 336371, number of used features: 10484\n",
      "[LightGBM] [Info] [binary:BoostFromScore]: pavg=0.819607 -> initscore=1.513687\n",
      "[LightGBM] [Info] Start training from score 1.513687\n",
      "F1 Score\n",
      "0.9567832167832168\n",
      "Roc Auc Score\n",
      "0.81232831323348\n",
      "Confusion Matrix\n",
      "[[ 9503  5461]\n",
      " [  719 68410]]\n",
      "SVC\n"
     ]
    }
   ],
   "source": [
    "models = {\"XGBClassifier\" : XGBClassifier(), \"XGBRFClassifier\" : XGBRFClassifier(), \n",
    "          \"LGBMClassifier\" : LGBMClassifier(),  \n",
    "          \"SVC\": SVC(), \"RandomForestClassifier\" : RandomForestClassifier()}\n",
    "\n",
    "for name, model in models.items():\n",
    "    print(name)\n",
    "    train = model.fit(x_train, y_train)\n",
    "    prediction = model.predict(x_test)\n",
    "    print(\"F1 Score\")\n",
    "    print(f1_score(y_test, prediction))\n",
    "    print(\"Roc Auc Score\")\n",
    "    print(roc_auc_score(y_test, prediction))\n",
    "    print(\"Confusion Matrix\")\n",
    "    print(confusion_matrix(y_test, prediction))"
   ]
  },
  {
   "cell_type": "code",
   "execution_count": 17,
   "metadata": {},
   "outputs": [
    {
     "name": "stdout",
     "output_type": "stream",
     "text": [
      "[LightGBM] [Info] Number of positive: 275692, number of negative: 60679\n",
      "[LightGBM] [Info] Auto-choosing row-wise multi-threading, the overhead of testing was 5.779803 seconds.\n",
      "You can set `force_row_wise=true` to remove the overhead.\n",
      "And if memory is not enough, you can set `force_col_wise=true`.\n",
      "[LightGBM] [Info] Total Bins 207661\n",
      "[LightGBM] [Info] Number of data points in the train set: 336371, number of used features: 10484\n",
      "[LightGBM] [Info] [binary:BoostFromScore]: pavg=0.819607 -> initscore=1.513687\n",
      "[LightGBM] [Info] Start training from score 1.513687\n"
     ]
    }
   ],
   "source": [
    "#Best Model is : LGBMClassifier\n",
    "lgbm_classifier = LGBMClassifier().fit(x_train, y_train)"
   ]
  },
  {
   "cell_type": "code",
   "execution_count": 18,
   "metadata": {},
   "outputs": [],
   "source": [
    "file = \"url_model.pkl\"\n",
    "with open(file, 'wb') as f:\n",
    "    pickle.dump(lgbm_classifier, f)\n",
    "f.close()\n",
    "\n",
    "file2 = \"pickel_vector.pkl\"\n",
    "with open(file2,'wb') as f2:\n",
    "    pickle.dump(vectorizer, f2)\n",
    "f2.close()\n",
    " "
   ]
  },
  {
   "cell_type": "code",
   "execution_count": null,
   "metadata": {},
   "outputs": [],
   "source": []
  }
 ],
 "metadata": {
  "kernelspec": {
   "display_name": "base",
   "language": "python",
   "name": "python3"
  },
  "language_info": {
   "codemirror_mode": {
    "name": "ipython",
    "version": 3
   },
   "file_extension": ".py",
   "mimetype": "text/x-python",
   "name": "python",
   "nbconvert_exporter": "python",
   "pygments_lexer": "ipython3",
   "version": "3.11.5"
  }
 },
 "nbformat": 4,
 "nbformat_minor": 2
}
